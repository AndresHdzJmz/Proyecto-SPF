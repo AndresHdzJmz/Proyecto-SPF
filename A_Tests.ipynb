{
 "cells": [
  {
   "cell_type": "markdown",
   "metadata": {},
   "source": [
    "# 1.3 Definición del problema\n",
    "\n",
    "En este proyecto queremos plantear la idea de una compañía quien a través de una base de datos le es posible el obtener distribuciones de probabilidad y simular situaciones en las cuales se pretende calcular la probabilidad de que un video sea exitoso. Se utilizarán datos de videos de Youtube México basándonos en cinco parámetros como categorías de video, likes, dislikes, número de vistas y cantidad de comentarios. Estos parámetros serán los nodos para trabajar y a través de estos se podría generar un modelo que nos permita encontrar la probabilidad de que un video sea bien recibido. Estos nodos o escenarios fueron elegidos porque nos permiten encontrar la correlación entre estas y se pueden simular ante el supuesto de un video ingresado en la red y su desempeño en la plataforma. La categoría de video es un nodo fundamental para poder filtrar los resultados de acuerdo con lo que la gente quiere ver de acuerdo con su popularidad. La ratio entre likes y dislikes nos darán una muy buena idea de como desempeña el video una vez en la plataforma. "
   ]
  },
  {
   "cell_type": "code",
   "execution_count": null,
   "metadata": {},
   "outputs": [],
   "source": []
  }
 ],
 "metadata": {
  "kernelspec": {
   "display_name": "Python 3",
   "language": "python",
   "name": "python3"
  },
  "language_info": {
   "codemirror_mode": {
    "name": "ipython",
    "version": 3
   },
   "file_extension": ".py",
   "mimetype": "text/x-python",
   "name": "python",
   "nbconvert_exporter": "python",
   "pygments_lexer": "ipython3",
   "version": "3.7.4"
  }
 },
 "nbformat": 4,
 "nbformat_minor": 4
}
